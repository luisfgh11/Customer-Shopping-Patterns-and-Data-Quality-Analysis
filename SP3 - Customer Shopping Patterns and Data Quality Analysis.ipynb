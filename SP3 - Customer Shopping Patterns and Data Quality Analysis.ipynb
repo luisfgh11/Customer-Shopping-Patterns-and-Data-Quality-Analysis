{
 "cells": [
  {
   "cell_type": "markdown",
   "id": "3Xg_RQfnafXz",
   "metadata": {
    "id": "3Xg_RQfnafXz"
   },
   "source": [
    "# Fill That Cart!"
   ]
  },
  {
   "cell_type": "markdown",
   "id": "mhIvmmkW414q",
   "metadata": {
    "id": "mhIvmmkW414q"
   },
   "source": [
    "# Introduction\n",
    "\n",
    "Instacart is a grocery delivery platform where customers can place an order and have it delivered, similar to Uber Eats and DoorDash.  \n",
    "The objective of this project is to understand and bring insights about customer behavior."
   ]
  },
  {
   "cell_type": "markdown",
   "id": "3MbyzpOQZ5Or",
   "metadata": {
    "id": "3MbyzpOQZ5Or"
   },
   "source": [
    "## Data Dictionary\n",
    "\n",
    "- `instacart_orders.csv`: each row corresponds to an order in the Instacart application.\n",
    "    - `'order_id'`: unique ID number that identifies each order.\n",
    "    - `'user_id'`: unique ID number that identifies each customer's account.\n",
    "    - `'order_number'`: the number of times this customer has placed an order.\n",
    "    - `'order_dow'`: day of the week the order was placed (0 if Sunday).\n",
    "    - `'order_hour_of_day'`: time of day the order was placed.\n",
    "    - `'days_since_prior_order'`: number of days since this customer placed their previous order.\n",
    "- `products.csv`: each row corresponds to a unique product that customers can purchase.\n",
    "    - `'product_id'`: unique ID number that identifies each product.\n",
    "    - `'product_name'`: name of the product.\n",
    "    - `'aisle_id'`: unique ID number that identifies each grocery aisle category.\n",
    "    - `'department_id'`: unique ID number that identifies each grocery department.\n",
    "- `order_products.csv`: each row corresponds to an item ordered in a purchase.\n",
    "    - `'order_id'`: unique ID number that identifies each order.\n",
    "    - `'product_id'`: unique ID number that identifies each product.\n",
    "    - `'add_to_cart_order'`: the sequential order in which each item was added to the cart.\n",
    "    - `'reordered'`: 0 if the customer has never ordered this product before, 1 if they have.\n",
    "- `aisles.csv`\n",
    "    - `'aisle_id'`: unique ID number that identifies each grocery aisle category.\n",
    "    - `'aisle'`: name of the aisle.\n",
    "- `departments.csv`\n",
    "    - `'department_id'`: unique ID number that identifies each grocery department.\n",
    "    - `'department'`: name of the department.\n"
   ]
  },
  {
   "cell_type": "markdown",
   "id": "n3Ha_cNSZ8lK",
   "metadata": {
    "id": "n3Ha_cNSZ8lK"
   },
   "source": [
    "# Step 1. Data Description"
   ]
  },
  {
   "cell_type": "code",
   "execution_count": null,
   "id": "fbf1adab",
   "metadata": {
    "id": "fbf1adab"
   },
   "outputs": [],
   "source": [
    "# import libraries\n",
    "import pandas as pd\n",
    "from matplotlib import pyplot as plt"
   ]
  },
  {
   "cell_type": "code",
   "execution_count": null,
   "id": "ad36396d",
   "metadata": {
    "id": "ad36396d"
   },
   "outputs": [],
   "source": [
    "# read datasets into DataFrames\n",
    "df_orders = pd.read_csv('instacart_orders.csv', sep=';')\n",
    "df_products = pd.read_csv('products.csv', sep=';')\n",
    "df_aisles = pd.read_csv('aisles.csv', sep=';')\n",
    "df_departments = pd.read_csv('departments.csv', sep=';')\n",
    "df_order_products = pd.read_csv('order_products.csv', sep=';')"
   ]
  },
  {
   "cell_type": "code",
   "execution_count": null,
   "id": "ad6a1efa",
   "metadata": {
    "id": "ad6a1efa"
   },
   "outputs": [],
   "source": [
    "# show information from the DataFrame\n",
    "df_orders.info()"
   ]
  },
  {
   "cell_type": "code",
   "execution_count": null,
   "id": "5130e05e",
   "metadata": {
    "id": "5130e05e"
   },
   "outputs": [],
   "source": [
    "# show information from the DataFrame\n",
    "df_products.info()"
   ]
  },
  {
   "cell_type": "code",
   "execution_count": null,
   "id": "d8370c05",
   "metadata": {
    "id": "d8370c05"
   },
   "outputs": [],
   "source": [
    "# show information from the DataFrame\n",
    "df_aisles.info()"
   ]
  },
  {
   "cell_type": "code",
   "execution_count": null,
   "id": "59e2090f",
   "metadata": {
    "id": "59e2090f"
   },
   "outputs": [],
   "source": [
    "# show information from the DataFrame\n",
    "df_departments.info()"
   ]
  },
  {
   "cell_type": "code",
   "execution_count": null,
   "id": "6fc81694",
   "metadata": {
    "id": "6fc81694"
   },
   "outputs": [],
   "source": [
    "# show information from the DataFrame\n",
    "df_order_products.info()"
   ]
  },
  {
   "cell_type": "markdown",
   "id": "t75BD19oaR5f",
   "metadata": {
    "id": "t75BD19oaR5f"
   },
   "source": [
    "## Observations\n",
    "\n",
    "The data was received in .csv files, the separator \";\" was established as a parameter of the pandas read_csv() method to read each of the tables and assign them correctly to their respective dataframe, they were assigned as follows:<br>\n",
    "\n",
    "#Name of the dataframe / Table\n",
    "<br>\n",
    "df_orders = instacart_orders.csv\n",
    "<br>\n",
    "df_products = products.csv\n",
    "<br>\n",
    "df_aisles = aisles.csv\n",
    "<br>\n",
    "df_departments = departments.csv\n",
    "<br>\n",
    "df_order_products = order_products.csv"
   ]
  },
  {
   "cell_type": "markdown",
   "id": "8RJHqxVmaVsF",
   "metadata": {
    "id": "8RJHqxVmaVsF"
   },
   "source": [
    "# Step 2. Data preprocessing"
   ]
  },
  {
   "cell_type": "markdown",
   "id": "p6poABZQaZYb",
   "metadata": {
    "id": "p6poABZQaZYb"
   },
   "source": [
    "## Solution plan\n",
    "\n",
    "Appropriate methods will be used to check for missing or duplicate values that may affect the data analysis. <br>\n",
    "The data frame will not be modified unless the values found may affect the subsequent analysis."
   ]
  },
  {
   "cell_type": "markdown",
   "id": "f179f0a9",
   "metadata": {
    "id": "f179f0a9"
   },
   "source": [
    "### `orders` data frame"
   ]
  },
  {
   "cell_type": "code",
   "execution_count": null,
   "id": "b99297a5-405a-463d-8535-9adc3da4ad74",
   "metadata": {
    "id": "b99297a5-405a-463d-8535-9adc3da4ad74"
   },
   "outputs": [],
   "source": [
    "# Check for duplicate orders\n",
    "print(\"Duplicate values in df_orders: \", df_orders.duplicated().sum())\n",
    "print(df_orders[df_orders.duplicated()])"
   ]
  },
  {
   "cell_type": "markdown",
   "id": "PEkwUX_gvt5A",
   "metadata": {
    "id": "PEkwUX_gvt5A"
   },
   "source": [
    "**Remarks**\n",
    "\n",
    "All duplicate rows correspond to orders placed on Wednesday at 2:00 a.m."
   ]
  },
  {
   "cell_type": "code",
   "execution_count": null,
   "id": "0d44de5d",
   "metadata": {
    "id": "0d44de5d"
   },
   "outputs": [],
   "source": [
    "# Check all orders that were placed on Wednesday at 2:00 a.m.\n",
    "print(df_orders.query(\"order_dow == 3 and order_hour_of_day == 2\"))"
   ]
  },
  {
   "cell_type": "markdown",
   "id": "vu2OWyoqwOx5",
   "metadata": {
    "id": "vu2OWyoqwOx5"
   },
   "source": [
    "**Remarks**\n",
    "\n",
    "The result of this query suggests that during the early hours of Wednesday there was a system failure that caused 15 duplicate orders in the database, probably a failure during a backup or something else."
   ]
  },
  {
   "cell_type": "code",
   "execution_count": null,
   "id": "480563c7",
   "metadata": {
    "id": "480563c7"
   },
   "outputs": [],
   "source": [
    "# Remove duplicate orders\n",
    "df_orders.drop_duplicates(inplace=True)\n",
    "df_orders.reset_index(drop=True)"
   ]
  },
  {
   "cell_type": "code",
   "execution_count": null,
   "id": "0b2396a2",
   "metadata": {
    "id": "0b2396a2"
   },
   "outputs": [],
   "source": [
    "# Check if duplicate rows still exist\n",
    "print(\"Duplicate values in df_orders: \", df_orders.duplicated().sum())"
   ]
  },
  {
   "cell_type": "code",
   "execution_count": null,
   "id": "f6113ef1",
   "metadata": {
    "id": "f6113ef1"
   },
   "outputs": [],
   "source": [
    "# Check only for duplicate order IDs\n",
    "print(\"Duplicate values in column order_id of df_orders: \", df_orders['order_id'].duplicated().sum())"
   ]
  },
  {
   "cell_type": "markdown",
   "id": "5e8905ae",
   "metadata": {
    "id": "5e8905ae"
   },
   "source": [
    "**Remarks**\n",
    "\n",
    "A total of 15 duplicate rows were found in the df_orders dataframe, the drop_duplicates method with the inplace parameter as True was used on the dataframe to remove the duplicate rows, and the reset_index method was also added to reset the indexes after the removal."
   ]
  },
  {
   "cell_type": "markdown",
   "id": "45e6bc46",
   "metadata": {
    "id": "45e6bc46"
   },
   "source": [
    "### `products` data frame"
   ]
  },
  {
   "cell_type": "code",
   "execution_count": null,
   "id": "5f526b5b-8175-46fa-a0fd-441767d50e64",
   "metadata": {
    "id": "5f526b5b-8175-46fa-a0fd-441767d50e64"
   },
   "outputs": [],
   "source": [
    "# Check for fully duplicate rows\n",
    "print(\"Duplicate values in df_products: \", df_products.duplicated().sum())"
   ]
  },
  {
   "cell_type": "code",
   "execution_count": null,
   "id": "88daa4f4",
   "metadata": {
    "id": "88daa4f4"
   },
   "outputs": [],
   "source": [
    "# Check only for duplicate department IDs\n",
    "print(\"Duplicate values in department_id column of df_products: \", df_products['department_id'].duplicated().sum())"
   ]
  },
  {
   "cell_type": "code",
   "execution_count": null,
   "id": "c773f0bf",
   "metadata": {
    "id": "c773f0bf"
   },
   "outputs": [],
   "source": [
    "# Check only for duplicate product names (convert names to uppercase for better comparison)\n",
    "df_products_uppercase = df_products['product_name'].str.upper()\n",
    "# Check for uppercase conversion\n",
    "print(df_products_uppercase)\n",
    "# Evaluate duplicate names\n",
    "print(\"Duplicate values in product_name from df_products: \", df_products_uppercase.duplicated().sum())"
   ]
  },
  {
   "cell_type": "code",
   "execution_count": null,
   "id": "01efd02e",
   "metadata": {
    "id": "01efd02e"
   },
   "outputs": [],
   "source": [
    "# Check for duplicate non-missing product names\n",
    "print(\"Non-missing duplicate values: \", df_products[~(df_products['product_name'].isna())].duplicated().sum())"
   ]
  },
  {
   "cell_type": "markdown",
   "id": "9da8d293",
   "metadata": {
    "id": "9da8d293"
   },
   "source": [
    "**Remarks**\n",
    "\n",
    "No duplicate rows were found in df_products, duplicate product names were evaluated, the vast majority of them are missing values in the product_name column, no modifications were made to the original dataframe."
   ]
  },
  {
   "cell_type": "markdown",
   "id": "60f30db1",
   "metadata": {
    "id": "60f30db1"
   },
   "source": [
    "### `departments` data frame"
   ]
  },
  {
   "cell_type": "code",
   "execution_count": null,
   "id": "fb410ad4-0fbf-4b80-bb09-23fdea79afe3",
   "metadata": {
    "id": "fb410ad4-0fbf-4b80-bb09-23fdea79afe3"
   },
   "outputs": [],
   "source": [
    "# Check for fully duplicate rows\n",
    "print(\"Duplicate values in df_departments: \", df_departments.duplicated().sum())"
   ]
  },
  {
   "cell_type": "code",
   "execution_count": null,
   "id": "332b12bb",
   "metadata": {
    "id": "332b12bb"
   },
   "outputs": [],
   "source": [
    "# Check only for duplicate product IDs\n",
    "print(\"Duplicate values in department_id column of df_departments: \", df_departments['department_id'].duplicated().sum())"
   ]
  },
  {
   "cell_type": "markdown",
   "id": "bd30d78e",
   "metadata": {
    "id": "bd30d78e"
   },
   "source": [
    "**Remarks**\n",
    "\n",
    "No duplicate rows were found in df_department or its id, no modifications were made to the original dataframe."
   ]
  },
  {
   "cell_type": "markdown",
   "id": "889349c1",
   "metadata": {
    "id": "889349c1"
   },
   "source": [
    "### `aisles` data frame"
   ]
  },
  {
   "cell_type": "code",
   "execution_count": null,
   "id": "9da89fb9-4679-40f5-ad0d-c34df753a3f8",
   "metadata": {
    "id": "9da89fb9-4679-40f5-ad0d-c34df753a3f8"
   },
   "outputs": [],
   "source": [
    "# Check for fully duplicate rows\n",
    "print(\"Duplicate values in df_aisles: \", df_aisles.duplicated().sum())"
   ]
  },
  {
   "cell_type": "code",
   "execution_count": null,
   "id": "da7c2822",
   "metadata": {
    "id": "da7c2822"
   },
   "outputs": [],
   "source": [
    "# Check only for duplicate product IDs\n",
    "print(\"Duplicate values in column aisle_id of df_aisles: \", df_aisles['aisle_id'].duplicated().sum())"
   ]
  },
  {
   "cell_type": "markdown",
   "id": "ac63826f",
   "metadata": {
    "id": "ac63826f"
   },
   "source": [
    "**Remarks**\n",
    "\n",
    "No duplicate rows were found in df_aisles or its id, no modifications were made to the original data frame."
   ]
  },
  {
   "cell_type": "markdown",
   "id": "274cd06a",
   "metadata": {
    "id": "274cd06a"
   },
   "source": [
    "### `order_products` data frame"
   ]
  },
  {
   "cell_type": "code",
   "execution_count": null,
   "id": "52326689-84a8-4b8f-a881-7c68780f62c9",
   "metadata": {
    "id": "52326689-84a8-4b8f-a881-7c68780f62c9"
   },
   "outputs": [],
   "source": [
    "# Check for fully duplicate rows\n",
    "print(\"Duplicate values in df_order_products: \", df_order_products.duplicated().sum())"
   ]
  },
  {
   "cell_type": "code",
   "execution_count": null,
   "id": "7b861391",
   "metadata": {
    "id": "7b861391"
   },
   "outputs": [],
   "source": [
    "# Double-check for any other misleading duplicates\n",
    "print(df_order_products['order_id'].duplicated().sum())"
   ]
  },
  {
   "cell_type": "markdown",
   "id": "0b890492",
   "metadata": {
    "id": "0b890492"
   },
   "source": [
    "**Remarks**\n",
    "\n",
    "No completely duplicate rows were found, it is normal to find duplicates in order_id, since many orders have more than one product, it is normal for the rest of the columns to have duplicates as well."
   ]
  },
  {
   "cell_type": "markdown",
   "id": "1e46de76",
   "metadata": {
    "id": "1e46de76"
   },
   "source": [
    "## Missing values\n",
    "\n",
    "When working with duplicate values, we noticed that we are also missing missing values ​​to investigate:\n",
    "\n",
    "* The `'product_name'` column in the products table.\n",
    "* The `'days_since_prior_order'` column in the orders table.\n",
    "* The `'add_to_cart_order'` column in the order_productos table."
   ]
  },
  {
   "cell_type": "markdown",
   "id": "c0aebd78",
   "metadata": {
    "id": "c0aebd78"
   },
   "source": [
    "### `products` data frame"
   ]
  },
  {
   "cell_type": "code",
   "execution_count": null,
   "id": "fe4a8b0f",
   "metadata": {
    "id": "fe4a8b0f"
   },
   "outputs": [],
   "source": [
    "# Find missing values in column 'product_name'\n",
    "print(df_products[df_products['product_name'].isna()])"
   ]
  },
  {
   "cell_type": "markdown",
   "id": "-A6x1AbJhjkp",
   "metadata": {
    "id": "-A6x1AbJhjkp"
   },
   "source": [
    "**Remarks**\n",
    "\n",
    "At first glance, it seems that all the rows in which the product_name value is missing coincide in belonging to aisle 100 and department 21"
   ]
  },
  {
   "cell_type": "code",
   "execution_count": null,
   "id": "e96167bc",
   "metadata": {
    "id": "e96167bc"
   },
   "outputs": [],
   "source": [
    "# Check if all missing products are related to aisle with ID 100\n",
    "print(df_products.isna().sum())\n",
    "print()\n",
    "print(df_products[df_products['aisle_id'] == 100].count())"
   ]
  },
  {
   "cell_type": "markdown",
   "id": "WRpIfXRphpSL",
   "metadata": {
    "id": "WRpIfXRphpSL"
   },
   "source": [
    "**Remarks**\n",
    "\n",
    "Indeed, all the rows in which the value of product_name is belong to aisle 100"
   ]
  },
  {
   "cell_type": "code",
   "execution_count": null,
   "id": "8fd0a541",
   "metadata": {
    "id": "8fd0a541"
   },
   "outputs": [],
   "source": [
    "# Check if all missing products are related to department with ID 21\n",
    "print(df_products[df_products['department_id'] == 21].count())"
   ]
  },
  {
   "cell_type": "markdown",
   "id": "qDpdYn1Fht_I",
   "metadata": {
    "id": "qDpdYn1Fht_I"
   },
   "source": [
    "**Remarks**\n",
    "\n",
    "Indeed, all the rows in which the value of product_name is belong to department 21"
   ]
  },
  {
   "cell_type": "code",
   "execution_count": null,
   "id": "325c3464",
   "metadata": {
    "id": "325c3464"
   },
   "outputs": [],
   "source": [
    "# Use the department and aisle tables to check the data for the aisle with ID 100 and the department with ID 21.\n",
    "print(df_aisles[df_aisles['aisle_id'] == 100])\n",
    "print(df_departments[df_departments['department_id'] == 21])"
   ]
  },
  {
   "cell_type": "markdown",
   "id": "nqhSTUPhhvEJ",
   "metadata": {
    "id": "nqhSTUPhhvEJ"
   },
   "source": [
    "**Remarks**\n",
    "\n",
    "Aisle 100 and department 21 have the word \"missing\", probably because there is no product name specified in the table, these columns are filled with that word automatically."
   ]
  },
  {
   "cell_type": "code",
   "execution_count": null,
   "id": "6b295120",
   "metadata": {
    "id": "6b295120"
   },
   "outputs": [],
   "source": [
    "# Fill missing product names with 'Unknown'\n",
    "df_products['product_name'].fillna('Unknown', inplace=True)\n",
    "print(df_products[df_products['product_name'].isna()]) #Checking that there are no more missing values in product_name"
   ]
  },
  {
   "cell_type": "markdown",
   "id": "fc70e5ad",
   "metadata": {
    "id": "fc70e5ad"
   },
   "source": [
    "**Remarks**\n",
    "\n",
    "The 1258 missing values in the product_name column of the products table were replaced by the word \"Unknown\""
   ]
  },
  {
   "cell_type": "markdown",
   "id": "7eb45c86",
   "metadata": {
    "id": "7eb45c86"
   },
   "source": [
    "### `orders` data frame"
   ]
  },
  {
   "cell_type": "code",
   "execution_count": null,
   "id": "93e41d96",
   "metadata": {
    "id": "93e41d96"
   },
   "outputs": [],
   "source": [
    "# Find the missing values\n",
    "print(df_orders.isna().sum())"
   ]
  },
  {
   "cell_type": "code",
   "execution_count": null,
   "id": "166e5a86",
   "metadata": {
    "id": "166e5a86"
   },
   "outputs": [],
   "source": [
    "# Is there any missing value other than the customer's first order? - No\n",
    "print(df_orders[df_orders['order_number'] == 1].count())"
   ]
  },
  {
   "cell_type": "markdown",
   "id": "4e23d089",
   "metadata": {
    "id": "4e23d089"
   },
   "source": [
    "**Remarks**\n",
    "\n",
    "There are no missing values ​​in this table except for the 28,817 missing values ​​in the column of days elapsed since this customer placed their previous order, which correspond to the rows in which it is the customer's first order, naturally there is no record of the days elapsed since the previous order for all those cases."
   ]
  },
  {
   "cell_type": "markdown",
   "id": "69dc9ca4",
   "metadata": {
    "id": "69dc9ca4"
   },
   "source": [
    "### `order_products` data frame"
   ]
  },
  {
   "cell_type": "code",
   "execution_count": null,
   "id": "b8240253",
   "metadata": {
    "id": "b8240253"
   },
   "outputs": [],
   "source": [
    "# Find the missing values\n",
    "print(df_order_products.isna().sum())"
   ]
  },
  {
   "cell_type": "code",
   "execution_count": null,
   "id": "9a78e5ee",
   "metadata": {
    "id": "9a78e5ee"
   },
   "outputs": [],
   "source": [
    "# Minimum and maximum values in this column\n",
    "print(\"Minimum value: \", df_order_products['add_to_cart_order'].min())\n",
    "print(\"Maximum value: \", df_order_products['add_to_cart_order'].max())"
   ]
  },
  {
   "cell_type": "markdown",
   "id": "-Z2Ja215jW78",
   "metadata": {
    "id": "-Z2Ja215jW78"
   },
   "source": [
    "**Remarks**\n",
    "\n",
    "It is natural that the minimum value of products added to the cart is 1, there does not seem to be any error in that regard. Based on the maximum value, there are orders where the customer added up to 64 items to their cart."
   ]
  },
  {
   "cell_type": "code",
   "execution_count": null,
   "id": "ab9d0c2b",
   "metadata": {
    "id": "ab9d0c2b"
   },
   "outputs": [],
   "source": [
    "# Save all order IDs that have a missing value in 'add_to_cart_order'\n",
    "id_miss_add_to_cart_order = df_order_products['order_id'][df_order_products['add_to_cart_order'].isna()]\n",
    "print(id_miss_add_to_cart_order)"
   ]
  },
  {
   "cell_type": "code",
   "execution_count": null,
   "id": "54c31695",
   "metadata": {
    "id": "54c31695"
   },
   "outputs": [],
   "source": [
    "# Do all orders with missing values have more than 64 products? - Yes\n",
    "group = df_order_products[df_order_products['add_to_cart_order'].isna()].groupby('order_id')\n",
    "print(\"Minimum count value: \", group['product_id'].count().min())\n",
    "print(\"Maximum count value: \", group['product_id'].count().max())"
   ]
  },
  {
   "cell_type": "markdown",
   "id": "p9V6pddtjglj",
   "metadata": {
    "id": "p9V6pddtjglj"
   },
   "source": [
    "**Remarks**\n",
    "\n",
    "It appears that for all orders, when the counter used to store the added number of products passes 63, its value in add_to_cart_order changes to NaN."
   ]
  },
  {
   "cell_type": "code",
   "execution_count": null,
   "id": "7a987d08",
   "metadata": {
    "id": "7a987d08"
   },
   "outputs": [],
   "source": [
    "# Replace missing values in column 'add_to_cart? with 999 and convert the column to integer type.\n",
    "df_order_products['add_to_cart_order'].fillna(999, inplace=True)\n",
    "print(df_order_products[df_order_products['add_to_cart_order'].isna()]) #Checking that there are no more missing values\n",
    "df_order_products['add_to_cart_order'] = df_order_products['add_to_cart_order'].astype('int')#Converting to int\n",
    "print(df_order_products['add_to_cart_order'].dtype) #Checking converted data type"
   ]
  },
  {
   "cell_type": "markdown",
   "id": "fea4bcc7",
   "metadata": {
    "id": "fea4bcc7"
   },
   "source": [
    "**Remarks**\n",
    "\n",
    "The missing values in the add_to_cart_order column were replaced with 999 and the column was changed to integer type, since the float data type was not suitable for this column, it is not possible to add \"half a product\" to the cart.<br>\n",
    "There are 836 lines in df_products where the value 'add_to_cart' is missing, all of them correspond to orders where the customer added more than 64 items to the cart, probably the source of this value has some programming error that does not record the number when it exceeds this amount."
   ]
  },
  {
   "cell_type": "markdown",
   "id": "RnplPFY1gSrb",
   "metadata": {
    "id": "RnplPFY1gSrb"
   },
   "source": [
    "## Conclusion of preprocessing\n",
    "\n",
    "During data preprocessing, each of the data frames provided by the client was analyzed separately.<br>\n",
    "- df_orders: 15 duplicate rows containing exactly the same information were removed from the orders table.<br>\n",
    "- df_products: No duplicate values were found in the products table, but there were some products with the same name, and 1258 records in the table without a product name were replaced by the word \"Unknown\".<br>\n",
    "- df_departments: No duplicate rows were found in the departments table, and no modifications were made.<br>\n",
    "- df_aisles: No duplicate rows were found in the aisles table, and no modifications were made.<br>\n",
    "- df_order_products: No duplicate rows were found in the order_products table, 836 missing values were found in the add_to_cart_order column, all of which correspond to carts where the quantity of products exceeded 63 products, these missing values were replaced by 999.\n"
   ]
  },
  {
   "cell_type": "markdown",
   "id": "UjrOIwTcz3ri",
   "metadata": {
    "id": "UjrOIwTcz3ri"
   },
   "source": [
    "# Step 3. Data analysis"
   ]
  },
  {
   "cell_type": "markdown",
   "id": "turkish-kidney",
   "metadata": {
    "id": "turkish-kidney"
   },
   "source": [
    "## Analysis A"
   ]
  },
  {
   "cell_type": "markdown",
   "id": "short-capability",
   "metadata": {
    "id": "short-capability"
   },
   "source": [
    "### [A1] Verify that the values ​​for time and day of the week are reasonable"
   ]
  },
  {
   "cell_type": "code",
   "execution_count": null,
   "id": "growing-fruit",
   "metadata": {
    "id": "growing-fruit"
   },
   "outputs": [],
   "source": [
    "print(df_orders['order_hour_of_day'].sort_values().unique())"
   ]
  },
  {
   "cell_type": "code",
   "execution_count": null,
   "id": "accessory-malaysia",
   "metadata": {
    "id": "accessory-malaysia"
   },
   "outputs": [],
   "source": [
    "print(df_orders['order_dow'].sort_values().unique())"
   ]
  },
  {
   "cell_type": "markdown",
   "id": "hmR2GNQ6lCsX",
   "metadata": {
    "id": "hmR2GNQ6lCsX"
   },
   "source": [
    "**Remarks**\n",
    "\n",
    "Appropriate queries were used to verify that the values for the order_hour_of_day and order_dow variables were correct; the queries did not return any errors for these variables."
   ]
  },
  {
   "cell_type": "markdown",
   "id": "a6743a70",
   "metadata": {
    "id": "a6743a70"
   },
   "source": [
    "### [A2] For each hour of the day, how many people place orders?"
   ]
  },
  {
   "cell_type": "code",
   "execution_count": null,
   "id": "a36cca27",
   "metadata": {
    "id": "a36cca27"
   },
   "outputs": [],
   "source": [
    "from matplotlib import pyplot as plt\n",
    "orders_per_hour = df_orders.groupby('order_hour_of_day')['user_id'].count()\n",
    "orders_per_hour.plot(xlabel=\"Hour of day\",\n",
    "                     ylabel='Orders per person',\n",
    "                     title='Number of orders per person by hour of day',\n",
    "                     style='o',\n",
    "                     figsize=[12, 5],\n",
    "                     grid=True)\n",
    "plt.show()"
   ]
  },
  {
   "cell_type": "markdown",
   "id": "11270eed",
   "metadata": {
    "id": "11270eed"
   },
   "source": [
    "**Remarks**\n",
    "\n",
    "The number of orders increases greatly from 6am to 10am, maintaining a high order flow between 10am and 3pm, then the number gradually decreases."
   ]
  },
  {
   "cell_type": "markdown",
   "id": "documented-command",
   "metadata": {
    "id": "documented-command"
   },
   "source": [
    "### [A3] What day of the week do people buy groceries?"
   ]
  },
  {
   "cell_type": "code",
   "execution_count": null,
   "id": "chief-digit",
   "metadata": {
    "id": "chief-digit"
   },
   "outputs": [],
   "source": [
    "from matplotlib import pyplot as plt\n",
    "orders_per_day = df_orders.groupby('order_dow')['user_id'].count()\n",
    "orders_per_day.plot(kind='bar', xlabel=\"Days\",\n",
    "                    ylabel='Orders per person',\n",
    "                    title='Number of people per day of the week',\n",
    "                    rot=360,\n",
    "                    grid=True)\n",
    "plt.xticks(ticks = [0,1,2,3,4,5,6], labels=[\"Sun\", \"Mo\", \"Tue\", \"Wed\",\"Th\",\"Fri\",\"Sa\"])\n",
    "plt.show()"
   ]
  },
  {
   "cell_type": "markdown",
   "id": "dominant-lightning",
   "metadata": {
    "id": "dominant-lightning"
   },
   "source": [
    "**Remarks**\n",
    "\n",
    "Sunday and Monday are the days with the most orders, well above the rest of the days, the day with the fewest orders is Thursday"
   ]
  },
  {
   "cell_type": "markdown",
   "id": "cutting-concert",
   "metadata": {
    "id": "cutting-concert"
   },
   "source": [
    "### [A4] How long do people wait until they place another order?"
   ]
  },
  {
   "cell_type": "code",
   "execution_count": null,
   "id": "c231f523",
   "metadata": {
    "id": "c231f523"
   },
   "outputs": [],
   "source": [
    "from matplotlib import pyplot as plt\n",
    "last_order_days_transcurred = df_orders.groupby('days_since_prior_order')['user_id'].count()\n",
    "last_order_days_transcurred.plot(kind='bar', \n",
    "                                 xlabel=\"Days since last order\",\n",
    "                                 ylabel='People', \n",
    "                                 title='People vs Days since last order',\n",
    "                                 figsize=[12, 5],\n",
    "                                 grid=True)\n",
    "plt.show()"
   ]
  },
  {
   "cell_type": "markdown",
   "id": "discrete-vertex",
   "metadata": {
    "id": "discrete-vertex"
   },
   "source": [
    "**Remarks**\n",
    "\n",
    "- The minimum value in the table (0) shows that there are about 10,000 people who place orders less than 24 hours after their previous order.\n",
    "- The maximum value (30) is also the most common, with most people waiting more than a month to place an order again."
   ]
  },
  {
   "cell_type": "markdown",
   "id": "10281678",
   "metadata": {},
   "source": [
    "## Analysis B"
   ]
  },
  {
   "cell_type": "markdown",
   "id": "packed-classic",
   "metadata": {
    "id": "packed-classic"
   },
   "source": [
    "### [B1] Is there any difference between the `'order_hour_of_day'` distributions on Wednesdays and Saturdays?"
   ]
  },
  {
   "cell_type": "code",
   "execution_count": null,
   "id": "d89b8403",
   "metadata": {
    "id": "d89b8403"
   },
   "outputs": [],
   "source": [
    "#Filtering lines for orders on Wednesday and Saturday\n",
    "df_orders_wed = df_orders[df_orders['order_dow'] == 3]\n",
    "df_orders_sat = df_orders[df_orders['order_dow'] == 6]"
   ]
  },
  {
   "cell_type": "code",
   "execution_count": null,
   "id": "94e54e8a",
   "metadata": {
    "id": "94e54e8a"
   },
   "outputs": [],
   "source": [
    "# Group by hour of day and count number of order users for the day Wednesday\n",
    "orders_per_hour_wed = df_orders_wed.groupby('order_hour_of_day')['user_id'].count()"
   ]
  },
  {
   "cell_type": "code",
   "execution_count": null,
   "id": "797c90a8",
   "metadata": {
    "id": "797c90a8"
   },
   "outputs": [],
   "source": [
    "# Group by hour of day and count number of order users for the day Saturday\n",
    "orders_per_hour_sat = df_orders_sat.groupby('order_hour_of_day')['user_id'].count()"
   ]
  },
  {
   "cell_type": "code",
   "execution_count": null,
   "id": "35bcea30",
   "metadata": {
    "id": "35bcea30"
   },
   "outputs": [],
   "source": [
    "orders_per_hour_wed.plot(style='o')\n",
    "orders_per_hour_sat.plot(xlabel=\"Hour of the day\", \n",
    "                         ylabel='Orders per person', \n",
    "                         title='Number of orders per person per hour of the day on Wednesdays and Saturdays',\n",
    "                         figsize=[12, 5],\n",
    "                         style='o',\n",
    "                         grid=True)\n",
    "plt.legend(['Wednesday', 'Saturday'])\n",
    "plt.show()"
   ]
  },
  {
   "cell_type": "markdown",
   "id": "charitable-congo",
   "metadata": {
    "id": "charitable-congo"
   },
   "source": [
    "**Remarks**\n",
    "\n",
    "Customers make almost the same number of orders on Wednesdays and Saturdays at almost the same time, except for the period between 12pm and 2pm. During that time period, orders on Saturday are greater than those on Wednesday."
   ]
  },
  {
   "cell_type": "markdown",
   "id": "e3891143",
   "metadata": {
    "id": "e3891143"
   },
   "source": [
    "### [B2] What is the distribution for the number of orders per customer?"
   ]
  },
  {
   "cell_type": "code",
   "execution_count": null,
   "id": "d8c26c23",
   "metadata": {
    "id": "d8c26c23"
   },
   "outputs": [],
   "source": [
    "orders_p_customer = df_orders.groupby('order_number')['user_id'].count()"
   ]
  },
  {
   "cell_type": "code",
   "execution_count": null,
   "id": "00e69a66",
   "metadata": {
    "id": "00e69a66"
   },
   "outputs": [],
   "source": [
    "orders_p_customer.plot(kind='bar', \n",
    "                        xlabel=\"Number of orders\", \n",
    "                        ylabel='People',\n",
    "                        title='Number of orders placed per person', \n",
    "                        figsize=[20, 5],\n",
    "                        grid=True)\n",
    "plt.show()"
   ]
  },
  {
   "cell_type": "markdown",
   "id": "d2eff7d5",
   "metadata": {
    "id": "d2eff7d5"
   },
   "source": [
    "**Remarks**\n",
    "\n",
    "It is normal to see the graph reduce in relation to the number of orders; the vast majority of customers do not make more than 10 orders."
   ]
  },
  {
   "cell_type": "markdown",
   "id": "54a0319c",
   "metadata": {
    "id": "54a0319c"
   },
   "source": [
    "### [B3] What are the 20 most popular products (show their ID and name)?"
   ]
  },
  {
   "cell_type": "code",
   "execution_count": null,
   "id": "exterior-arizona",
   "metadata": {
    "id": "exterior-arizona",
    "scrolled": true
   },
   "outputs": [],
   "source": [
    "#Grouping quantity of orders by product_id\n",
    "product_orders = df_order_products.groupby('product_id')['order_id'].count()\n",
    "#Sort descending\n",
    "product_orders = product_orders.sort_values(ascending = False)\n",
    "#Getting the top 20\n",
    "product_orders = product_orders.iloc[:20]"
   ]
  },
  {
   "cell_type": "code",
   "execution_count": null,
   "id": "universal-facial",
   "metadata": {
    "id": "universal-facial"
   },
   "outputs": [],
   "source": [
    "#Merging with df_products to get the column with the names\n",
    "twenty_popular = df_products.merge(product_orders, on='product_id')\n",
    "#Narrowing down to see the columns we are interested in\n",
    "twenty_popular = twenty_popular[['product_id', 'product_name','order_id']]"
   ]
  },
  {
   "cell_type": "code",
   "execution_count": null,
   "id": "bbcdd20b",
   "metadata": {
    "id": "bbcdd20b"
   },
   "outputs": [],
   "source": [
    "# Modifying the order_id column name to be more descriptive\n",
    "new_names = {\n",
    "  'order_id': 'Number of Orders'\n",
    "}\n",
    "twenty_popular = twenty_popular.rename(columns=new_names)\n",
    "\n",
    "# Printing in descending order\n",
    "print(twenty_popular.sort_values(by='Number of Orders', ascending=False))"
   ]
  },
  {
   "cell_type": "markdown",
   "id": "7df00f47",
   "metadata": {
    "id": "7df00f47"
   },
   "source": [
    "**Remarks**\n",
    "\n",
    "Most of the products in the top orders are organic"
   ]
  },
  {
   "cell_type": "markdown",
   "id": "gross-theme",
   "metadata": {
    "id": "gross-theme"
   },
   "source": [
    "# Analysis C"
   ]
  },
  {
   "cell_type": "markdown",
   "id": "romantic-deposit",
   "metadata": {
    "id": "romantic-deposit"
   },
   "source": [
    "### [C1] How many items do people typically buy in one order? How is the distribution?"
   ]
  },
  {
   "cell_type": "code",
   "execution_count": null,
   "id": "virtual-punch",
   "metadata": {
    "id": "virtual-punch"
   },
   "outputs": [],
   "source": [
    "#Grouping by order_id\n",
    "ordered_products = df_order_products.groupby('order_id')"
   ]
  },
  {
   "cell_type": "code",
   "execution_count": null,
   "id": "sensitive-breathing",
   "metadata": {
    "id": "sensitive-breathing"
   },
   "outputs": [],
   "source": [
    "#Getting the number of lines for each order_id\n",
    "ordered_products = ordered_products.count()\n",
    "print(ordered_products)"
   ]
  },
  {
   "cell_type": "code",
   "execution_count": null,
   "id": "completed-frank",
   "metadata": {
    "id": "completed-frank"
   },
   "outputs": [],
   "source": [
    "ordered_products['product_id'].plot(kind='hist')\n",
    "plt.show()\n",
    "print(\"The average number of items purchased in a single order is: \", ordered_products['product_id'].mean())"
   ]
  },
  {
   "cell_type": "markdown",
   "id": "designed-mortality",
   "metadata": {
    "id": "designed-mortality"
   },
   "source": [
    "**Remarks**\n",
    "\n",
    "The vast majority of items included in a single order range from 1 to 20 items, with an average of 10 items."
   ]
  },
  {
   "cell_type": "markdown",
   "id": "5e6b5537",
   "metadata": {
    "id": "5e6b5537"
   },
   "source": [
    "### [C2] What are the top 20 most frequently reordered items?"
   ]
  },
  {
   "cell_type": "code",
   "execution_count": null,
   "id": "9374e55a",
   "metadata": {
    "id": "9374e55a"
   },
   "outputs": [],
   "source": [
    "#Grouping by sum of product_id\n",
    "reordered_products = df_order_products.groupby('product_id').sum()\n",
    "#Ordering from largest to smallest\n",
    "reordered_products = reordered_products.sort_values(by = 'reordered',ascending = False)"
   ]
  },
  {
   "cell_type": "code",
   "execution_count": null,
   "id": "possible-change",
   "metadata": {
    "id": "possible-change",
    "scrolled": true
   },
   "outputs": [],
   "source": [
    "#Getting the 20 most reordered\n",
    "most_reordered = reordered_products.iloc[:20]\n",
    "#Merging with df_products to get the column with the names\n",
    "most_reordered = df_products.merge(most_reordered, on='product_id')\n",
    "#Narrowing down to see the columns we are interested in\n",
    "most_reordered = most_reordered[['product_id', 'product_name','reordered']]"
   ]
  },
  {
   "cell_type": "code",
   "execution_count": null,
   "id": "professional-surfing",
   "metadata": {
    "id": "professional-surfing",
    "scrolled": true
   },
   "outputs": [],
   "source": [
    "# Modifying the reordered column name to be more descriptive\n",
    "new_names = {\n",
    "  'reordered': 'Times_Reordered'\n",
    "}\n",
    "most_reordered = most_reordered.rename(columns=new_names)"
   ]
  },
  {
   "cell_type": "code",
   "execution_count": null,
   "id": "48dd3658",
   "metadata": {
    "id": "48dd3658"
   },
   "outputs": [],
   "source": [
    "#Printing in descending order\n",
    "print(most_reordered.sort_values(by='Times_Reordered',ascending = False))"
   ]
  },
  {
   "cell_type": "markdown",
   "id": "80e70c74",
   "metadata": {
    "id": "80e70c74"
   },
   "source": [
    "**Remarks**\n",
    "\n",
    "It is normal to find that many of the most reordered products coincide with the most ordered products."
   ]
  },
  {
   "cell_type": "markdown",
   "id": "9d312b14",
   "metadata": {
    "id": "9d312b14"
   },
   "source": [
    "### [C3] For each product, what is the proportion of times it is ordered and reordered?"
   ]
  },
  {
   "cell_type": "code",
   "execution_count": null,
   "id": "8ae9f4b1",
   "metadata": {
    "id": "8ae9f4b1"
   },
   "outputs": [],
   "source": [
    "#Grouping by sum of reordered product_ids\n",
    "reordered_products_sum = df_order_products.groupby('product_id')['reordered'].sum()\n",
    "#Grouping by product_id count in order_id\n",
    "ordered_products_count = df_order_products.groupby('product_id')['order_id'].count()"
   ]
  },
  {
   "cell_type": "code",
   "execution_count": null,
   "id": "103e7fe1",
   "metadata": {
    "id": "103e7fe1"
   },
   "outputs": [],
   "source": [
    "#Concatenating series grouped in the same dataframe\n",
    "group = pd.concat([reordered_products_sum, ordered_products_count], axis='columns')"
   ]
  },
  {
   "cell_type": "code",
   "execution_count": null,
   "id": "social-individual",
   "metadata": {
    "id": "social-individual"
   },
   "outputs": [],
   "source": [
    "#Creating new column with proportion\n",
    "group['proportion'] = group['reordered'] / group['order_id']\n",
    "print(group)"
   ]
  },
  {
   "cell_type": "markdown",
   "id": "8ba9866e",
   "metadata": {
    "id": "I10dEIAyldcO"
   },
   "source": [
    "**Remarks**\n",
    "\n",
    "The ratio \"number of repeat orders/total orders\" can give us a very good idea of ​​the products with good quality that customers enjoy continuing to buy."
   ]
  },
  {
   "cell_type": "markdown",
   "id": "subject-boxing",
   "metadata": {
    "id": "subject-boxing"
   },
   "source": [
    "### [C4] For each customer, what proportion of your products had already been ordered?"
   ]
  },
  {
   "cell_type": "code",
   "execution_count": null,
   "id": "medical-couple",
   "metadata": {
    "id": "medical-couple",
    "scrolled": true
   },
   "outputs": [],
   "source": [
    "#Grouping by sum of reordered and quantity of products for each order\n",
    "agg_dict = {'reordered': 'sum', 'product_id': 'count'}\n",
    "group = df_order_products.groupby('order_id')\n",
    "group = group.agg(agg_dict)"
   ]
  },
  {
   "cell_type": "code",
   "execution_count": null,
   "id": "8892e4b4",
   "metadata": {
    "id": "8892e4b4"
   },
   "outputs": [],
   "source": [
    "#Merging reordered with df_orders by order_id\n",
    "mix = df_orders.merge(group, on='order_id')\n",
    "#Removing unnecessary columns\n",
    "mix = mix[['user_id','reordered', 'product_id']]\n",
    "#Grouping by sum of products and reordered for each user\n",
    "mix = mix.groupby('user_id').sum()\n",
    "#Adding column with proportion and printing\n",
    "mix['proportion'] = mix['reordered'] / mix['product_id']\n",
    "print(mix)"
   ]
  },
  {
   "cell_type": "markdown",
   "id": "BgJSvXDsleXz",
   "metadata": {
    "id": "BgJSvXDsleXz"
   },
   "source": [
    "**Remarks**\n",
    "\n",
    "The \"repurchased products/purchased products\" ratio for each customer can give us an idea of ​​which customers tend to repurchase products, information that can be valuable to the customer, for example, to offer them promotions or reward them for it."
   ]
  },
  {
   "cell_type": "markdown",
   "id": "92d35137",
   "metadata": {
    "id": "92d35137"
   },
   "source": [
    "### [C5] What are the top 20 items people put first in their carts?"
   ]
  },
  {
   "cell_type": "code",
   "execution_count": null,
   "id": "0ae57274",
   "metadata": {
    "id": "0ae57274",
    "scrolled": true
   },
   "outputs": [],
   "source": [
    "#Filtering by products ordered first\n",
    "first_articles = df_order_products[df_order_products['add_to_cart_order'] == 1]\n",
    "#Grouping by sum of product_id added first\n",
    "first_articles = first_articles.groupby('product_id').sum()\n",
    "#Ordering from largest to smallest\n",
    "first_articles = first_articles.sort_values(by = 'add_to_cart_order',ascending = False)"
   ]
  },
  {
   "cell_type": "code",
   "execution_count": null,
   "id": "forty-netherlands",
   "metadata": {
    "id": "forty-netherlands",
    "scrolled": true
   },
   "outputs": [],
   "source": [
    "#Getting the 20 most ordered as first option\n",
    "most_firsto = first_articles.iloc[:20]\n",
    "#Merging with df_products to get the column with the names\n",
    "most_firsto = df_products.merge(most_firsto, on='product_id')\n",
    "#Narrowing down to see the columns we are interested in\n",
    "most_firsto = most_firsto[['product_id', 'product_name','add_to_cart_order']]"
   ]
  },
  {
   "cell_type": "code",
   "execution_count": null,
   "id": "08e41ec2",
   "metadata": {
    "id": "08e41ec2"
   },
   "outputs": [],
   "source": [
    "#Modifying the name of order_id to be more explanatory\n",
    "new_names = {\n",
    "'add_to_cart_order' : 'Times sorted first'\n",
    "}\n",
    "most_firsto = most_firsto. rename(columns = new_names)\n",
    "#Printing in descending order\n",
    "print(most_firsto. sort_values(by='Times sorted first',ascending = False))"
   ]
  },
  {
   "cell_type": "markdown",
   "id": "28ce9872",
   "metadata": {
    "id": "28ce9872"
   },
   "source": [
    "**Remarks**\n",
    "\n",
    "In this case there was not much similarity with the reordered or more ordered products, however the most ordered products occupied the majority of the first positions in those ordered first."
   ]
  },
  {
   "cell_type": "markdown",
   "id": "44157fe9",
   "metadata": {
    "id": "Nk-4GS7mDwqY"
   },
   "source": [
    "# Conclusion of the Exploratory Data Analysis\n",
    "The analysis provides key insights into customer behavior, order patterns, and potential system issues.\n",
    "### Customer Ordering Behavior\n",
    "- **Peak Order Times:** Orders significantly increase from 6 AM to 3 PM, with the highest volume between 10 AM and 3 PM.\n",
    "- **Popular Shopping Days:** Sunday and Monday have the highest number of orders, while Thursday has the fewest.\n",
    "- **Order Frequency:** Most customers place orders once a month (30 days apart), but around 10,000 customers reorder within 24 hours of their last purchase.\n",
    "- **Cart Size:** Customers typically purchase 1 to 20 items per order, with an average of 10 items per order.\n",
    "### Product Preferences & Customer Loyalty\n",
    "- **Most Ordered Products:** Organic products dominate the top orders.\n",
    "- **Repeat Purchases:** The ratio of repurchased products to total purchases can help identify high-quality products that drive customer loyalty.\n",
    "- **Customer Segmentation:** The \"repurchased products/purchased products\" ratio can be used to segment customers and offer personalized promotions or rewards.\n",
    "### System & Data Quality Issues\n",
    "- **Duplicate Orders:** A system failure likely occurred on Wednesdays at 2:00 AM, leading to 15 duplicate orders—potentially due to a backup issue.\n",
    "- **Missing Product Names:** All missing values for product_name belong to aisle 100 and department 21, where the system automatically assigns the word \"missing.\"\n",
    "- **Cart Size Limitation:** Orders with more than 64 items have missing \"add_to_cart\" values, suggesting a system bug that fails to record numbers beyond this threshold.\n",
    "### Business Implications\n",
    "- **Optimize Promotions & Inventory:** Focus marketing efforts on peak shopping times and popular products.\n",
    "- **Customer Retention Strategy:** Leverage repurchase data to offer targeted promotions and reward loyal customers.\n",
    "- **Improve System Reliability:** Investigate and resolve system bugs related to duplicate orders and missing cart data to ensure a seamless customer experience."
   ]
  }
 ],
 "metadata": {
  "colab": {
   "provenance": []
  },
  "kernelspec": {
   "display_name": "Python 3 (ipykernel)",
   "language": "python",
   "name": "python3"
  },
  "language_info": {
   "codemirror_mode": {
    "name": "ipython",
    "version": 3
   },
   "file_extension": ".py",
   "mimetype": "text/x-python",
   "name": "python",
   "nbconvert_exporter": "python",
   "pygments_lexer": "ipython3",
   "version": "3.11.5"
  },
  "toc": {
   "base_numbering": 1,
   "nav_menu": {},
   "number_sections": true,
   "sideBar": true,
   "skip_h1_title": true,
   "title_cell": "Table of Contents",
   "title_sidebar": "Contents",
   "toc_cell": false,
   "toc_position": {},
   "toc_section_display": true,
   "toc_window_display": false
  },
  "vscode": {
   "interpreter": {
    "hash": "01a7be9ec63e704a62cefc5fe7a4756944464ee731be31632bdf42a4cb4688cf"
   }
  }
 },
 "nbformat": 4,
 "nbformat_minor": 5
}
